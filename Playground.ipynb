{
 "cells": [
  {
   "cell_type": "code",
   "execution_count": 5,
   "metadata": {},
   "outputs": [
    {
     "data": {
      "text/plain": [
       "\"Howdy partner, sit down! How's it going?\""
      ]
     },
     "execution_count": 5,
     "metadata": {},
     "output_type": "execute_result"
    }
   ],
   "source": [
    "dictionary = [\"below\",\"down\",\"go\",\"going\",\"horn\",\n",
    "              \"how\",\"howdy\",\"it\",\"i\",\"low\",\"own\",\"part\",\"partner\",\"sit\"]\n",
    "sentence = \"Howdy partner, sit down! How's it going?\""
   ]
  },
  {
   "cell_type": "code",
   "execution_count": 10,
   "metadata": {},
   "outputs": [
    {
     "data": {
      "text/plain": [
       "true"
      ]
     },
     "execution_count": 10,
     "metadata": {},
     "output_type": "execute_result"
    }
   ],
   "source": [
    "load \"substring.rb\""
   ]
  },
  {
   "cell_type": "code",
   "execution_count": 12,
   "metadata": {},
   "outputs": [
    {
     "name": "stdout",
     "output_type": "stream",
     "text": [
      "words from string: [\"below\"]\n",
      "substring: [\"b\", \"be\", \"bel\", \"belo\", \"below\", \"e\", \"el\", \"elo\", \"elow\", \"l\", \"lo\", \"low\", \"o\", \"ow\", \"w\"]\n"
     ]
    },
    {
     "data": {
      "text/plain": [
       "{\"below\"=>1, \"low\"=>1}"
      ]
     },
     "execution_count": 12,
     "metadata": {},
     "output_type": "execute_result"
    }
   ],
   "source": [
    "substring_sentence(\"below\", dictionary)"
   ]
  },
  {
   "cell_type": "code",
   "execution_count": 13,
   "metadata": {},
   "outputs": [
    {
     "name": "stdout",
     "output_type": "stream",
     "text": [
      "Zoo Lander\n"
     ]
    }
   ],
   "source": [
    "def my_name()\n",
    "  return(\"Zoo Lander\")\n",
    "end\n",
    "\n",
    "puts my_name()"
   ]
  },
  {
   "cell_type": "code",
   "execution_count": 95,
   "metadata": {},
   "outputs": [
    {
     "data": {
      "text/plain": [
       "true"
      ]
     },
     "execution_count": 95,
     "metadata": {},
     "output_type": "execute_result"
    }
   ],
   "source": [
    "load \"bubble_sort.rb\""
   ]
  },
  {
   "cell_type": "code",
   "execution_count": 96,
   "metadata": {
    "scrolled": true
   },
   "outputs": [
    {
     "name": "stdout",
     "output_type": "stream",
     "text": [
      "array = [5, 4, 3, 8, 9, 4, 3, 5, 2], swap = 0, index = 0, old = 0\n",
      "array = [4, 5, 3, 8, 9, 4, 3, 5, 2], swap = 1, index = 1, old = 5\n",
      "array = [4, 3, 5, 8, 9, 4, 3, 5, 2], swap = 2, index = 2, old = 5\n",
      "array = [4, 3, 5, 8, 9, 4, 3, 5, 2], swap = 2, index = 3, old = 5\n",
      "array = [4, 3, 5, 8, 9, 4, 3, 5, 2], swap = 2, index = 4, old = 5\n",
      "array = [4, 3, 5, 8, 4, 9, 3, 5, 2], swap = 3, index = 5, old = 9\n",
      "array = [4, 3, 5, 8, 4, 3, 9, 5, 2], swap = 4, index = 6, old = 9\n",
      "array = [4, 3, 5, 8, 4, 3, 5, 9, 2], swap = 5, index = 7, old = 9\n",
      "array = [4, 3, 5, 8, 4, 3, 5, 2, 9], swap = 0, index = 0, old = 9\n",
      "array = [3, 4, 5, 8, 4, 3, 5, 2, 9], swap = 1, index = 1, old = 4\n",
      "array = [3, 4, 5, 8, 4, 3, 5, 2, 9], swap = 1, index = 2, old = 4\n",
      "array = [3, 4, 5, 8, 4, 3, 5, 2, 9], swap = 1, index = 3, old = 4\n",
      "array = [3, 4, 5, 4, 8, 3, 5, 2, 9], swap = 2, index = 4, old = 8\n",
      "array = [3, 4, 5, 4, 3, 8, 5, 2, 9], swap = 3, index = 5, old = 8\n",
      "array = [3, 4, 5, 4, 3, 5, 8, 2, 9], swap = 4, index = 6, old = 8\n",
      "array = [3, 4, 5, 4, 3, 5, 2, 8, 9], swap = 5, index = 7, old = 8\n",
      "array = [3, 4, 5, 4, 3, 5, 2, 8, 9], swap = 0, index = 0, old = 8\n",
      "array = [3, 4, 5, 4, 3, 5, 2, 8, 9], swap = 0, index = 1, old = 8\n",
      "array = [3, 4, 5, 4, 3, 5, 2, 8, 9], swap = 0, index = 2, old = 8\n",
      "array = [3, 4, 4, 5, 3, 5, 2, 8, 9], swap = 1, index = 3, old = 5\n",
      "array = [3, 4, 4, 3, 5, 5, 2, 8, 9], swap = 2, index = 4, old = 5\n",
      "array = [3, 4, 4, 3, 5, 5, 2, 8, 9], swap = 2, index = 5, old = 5\n",
      "array = [3, 4, 4, 3, 5, 2, 5, 8, 9], swap = 3, index = 6, old = 5\n",
      "array = [3, 4, 4, 3, 5, 2, 5, 8, 9], swap = 3, index = 7, old = 5\n",
      "array = [3, 4, 4, 3, 5, 2, 5, 8, 9], swap = 0, index = 0, old = 5\n",
      "array = [3, 4, 4, 3, 5, 2, 5, 8, 9], swap = 0, index = 1, old = 5\n",
      "array = [3, 4, 4, 3, 5, 2, 5, 8, 9], swap = 0, index = 2, old = 5\n",
      "array = [3, 4, 3, 4, 5, 2, 5, 8, 9], swap = 1, index = 3, old = 4\n",
      "array = [3, 4, 3, 4, 5, 2, 5, 8, 9], swap = 1, index = 4, old = 4\n",
      "array = [3, 4, 3, 4, 2, 5, 5, 8, 9], swap = 2, index = 5, old = 5\n",
      "array = [3, 4, 3, 4, 2, 5, 5, 8, 9], swap = 2, index = 6, old = 5\n",
      "array = [3, 4, 3, 4, 2, 5, 5, 8, 9], swap = 2, index = 7, old = 5\n",
      "array = [3, 4, 3, 4, 2, 5, 5, 8, 9], swap = 0, index = 0, old = 5\n",
      "array = [3, 4, 3, 4, 2, 5, 5, 8, 9], swap = 0, index = 1, old = 5\n",
      "array = [3, 3, 4, 4, 2, 5, 5, 8, 9], swap = 1, index = 2, old = 4\n",
      "array = [3, 3, 4, 4, 2, 5, 5, 8, 9], swap = 1, index = 3, old = 4\n",
      "array = [3, 3, 4, 2, 4, 5, 5, 8, 9], swap = 2, index = 4, old = 4\n",
      "array = [3, 3, 4, 2, 4, 5, 5, 8, 9], swap = 2, index = 5, old = 4\n",
      "array = [3, 3, 4, 2, 4, 5, 5, 8, 9], swap = 2, index = 6, old = 4\n",
      "array = [3, 3, 4, 2, 4, 5, 5, 8, 9], swap = 2, index = 7, old = 4\n",
      "array = [3, 3, 4, 2, 4, 5, 5, 8, 9], swap = 0, index = 0, old = 4\n",
      "array = [3, 3, 4, 2, 4, 5, 5, 8, 9], swap = 0, index = 1, old = 4\n",
      "array = [3, 3, 4, 2, 4, 5, 5, 8, 9], swap = 0, index = 2, old = 4\n",
      "array = [3, 3, 2, 4, 4, 5, 5, 8, 9], swap = 1, index = 3, old = 4\n",
      "array = [3, 3, 2, 4, 4, 5, 5, 8, 9], swap = 1, index = 4, old = 4\n",
      "array = [3, 3, 2, 4, 4, 5, 5, 8, 9], swap = 1, index = 5, old = 4\n",
      "array = [3, 3, 2, 4, 4, 5, 5, 8, 9], swap = 1, index = 6, old = 4\n",
      "array = [3, 3, 2, 4, 4, 5, 5, 8, 9], swap = 1, index = 7, old = 4\n",
      "array = [3, 3, 2, 4, 4, 5, 5, 8, 9], swap = 0, index = 0, old = 4\n",
      "array = [3, 3, 2, 4, 4, 5, 5, 8, 9], swap = 0, index = 1, old = 4\n",
      "array = [3, 2, 3, 4, 4, 5, 5, 8, 9], swap = 1, index = 2, old = 3\n",
      "array = [3, 2, 3, 4, 4, 5, 5, 8, 9], swap = 1, index = 3, old = 3\n",
      "array = [3, 2, 3, 4, 4, 5, 5, 8, 9], swap = 1, index = 4, old = 3\n",
      "array = [3, 2, 3, 4, 4, 5, 5, 8, 9], swap = 1, index = 5, old = 3\n",
      "array = [3, 2, 3, 4, 4, 5, 5, 8, 9], swap = 1, index = 6, old = 3\n",
      "array = [3, 2, 3, 4, 4, 5, 5, 8, 9], swap = 1, index = 7, old = 3\n",
      "array = [3, 2, 3, 4, 4, 5, 5, 8, 9], swap = 0, index = 0, old = 3\n",
      "array = [2, 3, 3, 4, 4, 5, 5, 8, 9], swap = 1, index = 1, old = 3\n",
      "array = [2, 3, 3, 4, 4, 5, 5, 8, 9], swap = 1, index = 2, old = 3\n",
      "array = [2, 3, 3, 4, 4, 5, 5, 8, 9], swap = 1, index = 3, old = 3\n",
      "array = [2, 3, 3, 4, 4, 5, 5, 8, 9], swap = 1, index = 4, old = 3\n",
      "array = [2, 3, 3, 4, 4, 5, 5, 8, 9], swap = 1, index = 5, old = 3\n",
      "array = [2, 3, 3, 4, 4, 5, 5, 8, 9], swap = 1, index = 6, old = 3\n",
      "array = [2, 3, 3, 4, 4, 5, 5, 8, 9], swap = 1, index = 7, old = 3\n",
      "array = [2, 3, 3, 4, 4, 5, 5, 8, 9], swap = 0, index = 0, old = 3\n",
      "array = [2, 3, 3, 4, 4, 5, 5, 8, 9], swap = 0, index = 1, old = 3\n",
      "array = [2, 3, 3, 4, 4, 5, 5, 8, 9], swap = 0, index = 2, old = 3\n",
      "array = [2, 3, 3, 4, 4, 5, 5, 8, 9], swap = 0, index = 3, old = 3\n",
      "array = [2, 3, 3, 4, 4, 5, 5, 8, 9], swap = 0, index = 4, old = 3\n",
      "array = [2, 3, 3, 4, 4, 5, 5, 8, 9], swap = 0, index = 5, old = 3\n",
      "array = [2, 3, 3, 4, 4, 5, 5, 8, 9], swap = 0, index = 6, old = 3\n",
      "array = [2, 3, 3, 4, 4, 5, 5, 8, 9], swap = 0, index = 7, old = 3\n"
     ]
    },
    {
     "data": {
      "text/plain": [
       "true"
      ]
     },
     "execution_count": 96,
     "metadata": {},
     "output_type": "execute_result"
    }
   ],
   "source": [
    "lala = bubble_sort([5,4,3,8,9,4,3,5,2])\n",
    "lala == [5,4,3,8,9,4,3,5,2].sort"
   ]
  },
  {
   "cell_type": "code",
   "execution_count": 108,
   "metadata": {},
   "outputs": [
    {
     "data": {
      "text/plain": [
       "\"abcdefghijklmnopqrstuvwxyz\""
      ]
     },
     "execution_count": 108,
     "metadata": {},
     "output_type": "execute_result"
    }
   ],
   "source": [
    "(\"a\"..\"z\").to_a.join"
   ]
  },
  {
   "cell_type": "code",
   "execution_count": 115,
   "metadata": {},
   "outputs": [
    {
     "data": {
      "text/plain": [
       ":bubble_sort_by"
      ]
     },
     "execution_count": 115,
     "metadata": {},
     "output_type": "execute_result"
    }
   ],
   "source": [
    "def bubble_sort_by(array, &block)\n",
    "  swap = nil\n",
    "\n",
    "  until swap == false do\n",
    "\n",
    "    swap = false\n",
    "    (0...array.length-1).each do |index|\n",
    "      if yield(array[index],array[index+1])>0\n",
    "        array[index], array[index+1] = array[index+1], array[index]\n",
    "        swap = true\n",
    "      end\n",
    "    end    \n",
    "  end\n",
    "  return array \n",
    "end"
   ]
  },
  {
   "cell_type": "code",
   "execution_count": 117,
   "metadata": {},
   "outputs": [
    {
     "data": {
      "text/plain": [
       "[1, 2, 3, 4, 5]"
      ]
     },
     "execution_count": 117,
     "metadata": {},
     "output_type": "execute_result"
    }
   ],
   "source": [
    "bubble_sort_by([5,4,1,3,2]) {|left, right| left - right}"
   ]
  }
 ],
 "metadata": {
  "hide_input": false,
  "kernelspec": {
   "display_name": "Ruby 2.1.0",
   "language": "ruby",
   "name": "ruby"
  },
  "language_info": {
   "file_extension": ".rb",
   "mimetype": "application/x-ruby",
   "name": "ruby",
   "version": "2.1.0"
  },
  "varInspector": {
   "cols": {
    "lenName": 16,
    "lenType": 16,
    "lenVar": 40
   },
   "kernels_config": {
    "python": {
     "delete_cmd_postfix": "",
     "delete_cmd_prefix": "del ",
     "library": "var_list.py",
     "varRefreshCmd": "print(var_dic_list())"
    },
    "r": {
     "delete_cmd_postfix": ") ",
     "delete_cmd_prefix": "rm(",
     "library": "var_list.r",
     "varRefreshCmd": "cat(var_dic_list()) "
    }
   },
   "types_to_exclude": [
    "module",
    "function",
    "builtin_function_or_method",
    "instance",
    "_Feature"
   ],
   "window_display": false
  }
 },
 "nbformat": 4,
 "nbformat_minor": 2
}
